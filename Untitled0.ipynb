{
  "nbformat": 4,
  "nbformat_minor": 0,
  "metadata": {
    "colab": {
      "provenance": [],
      "toc_visible": true,
      "authorship_tag": "ABX9TyP+7ygkePXtmsrO7UXvNl+/",
      "include_colab_link": true
    },
    "kernelspec": {
      "name": "python3",
      "display_name": "Python 3"
    },
    "language_info": {
      "name": "python"
    }
  },
  "cells": [
    {
      "cell_type": "markdown",
      "metadata": {
        "id": "view-in-github",
        "colab_type": "text"
      },
      "source": [
        "<a href=\"https://colab.research.google.com/github/fathima-manna/python-class/blob/main/Untitled0.ipynb\" target=\"_parent\"><img src=\"https://colab.research.google.com/assets/colab-badge.svg\" alt=\"Open In Colab\"/></a>"
      ]
    },
    {
      "cell_type": "code",
      "execution_count": null,
      "metadata": {
        "id": "Jxx67ePMpKTT"
      },
      "outputs": [],
      "source": []
    },
    {
      "cell_type": "markdown",
      "source": [
        "#**welcome to the class**\n",
        "##**hello**"
      ],
      "metadata": {
        "id": "LAuTxa1Qr4kk"
      }
    },
    {
      "cell_type": "code",
      "source": [],
      "metadata": {
        "id": "CflJGjDqssvN"
      },
      "execution_count": null,
      "outputs": []
    },
    {
      "cell_type": "markdown",
      "source": [],
      "metadata": {
        "id": "aa2xtNyHssOk"
      }
    },
    {
      "cell_type": "code",
      "source": [],
      "metadata": {
        "id": "CVeDw9yhsiMw"
      },
      "execution_count": null,
      "outputs": []
    }
  ]
}